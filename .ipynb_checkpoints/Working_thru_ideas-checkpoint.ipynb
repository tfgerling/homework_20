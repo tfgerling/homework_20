{
 "cells": [
  {
   "cell_type": "code",
   "execution_count": 18,
   "id": "5c2d615e",
   "metadata": {},
   "outputs": [
    {
     "data": {
      "text/plain": [
       "FreqDist({'cat': 8, 'the': 6, 'a': 4, '.[': 4, ']': 4, 'is': 3, 'and': 3, 'to': 3, 'domestic': 2, 'species': 2, ...})"
      ]
     },
     "execution_count": 18,
     "metadata": {},
     "output_type": "execute_result"
    }
   ],
   "source": [
    "import sys\n",
    "import nltk\n",
    "from nltk.probability import FreqDist\n",
    "from nltk.tokenize import word_tokenize, wordpunct_tokenize\n",
    "\n",
    "sentence = '''The cat (Felis catus) is a domestic species of small carnivorous mammal.[1][2] \n",
    "It is the only domesticated species in the family Felidae and is often referred to as the domestic \n",
    "cat to distinguish it from the wild members of the family.[4] A cat can either be a house cat, a farm cat \n",
    "or a feral cat; the latter ranges freely and avoids human contact.[5] Domestic cats are valued by humans \n",
    "for companionship and their ability to hunt rodents. About 60 cat breeds are recognized by various cat registries.[6]\n",
    "'''\n",
    "\n",
    "tokens_in = wordpunct_tokenize(sentence)\n",
    "\n",
    "freqDist = FreqDist(tokens_in)\n",
    "freqDist"
   ]
  },
  {
   "cell_type": "code",
   "execution_count": 32,
   "id": "efec4f3b",
   "metadata": {},
   "outputs": [
    {
     "data": {
      "text/plain": [
       "list"
      ]
     },
     "execution_count": 32,
     "metadata": {},
     "output_type": "execute_result"
    }
   ],
   "source": [
    "type(tokens_in)"
   ]
  },
  {
   "cell_type": "code",
   "execution_count": 19,
   "id": "33016915",
   "metadata": {},
   "outputs": [
    {
     "data": {
      "text/plain": [
       "['The',\n",
       " 'cat',\n",
       " '(',\n",
       " 'Felis',\n",
       " 'catus',\n",
       " ')',\n",
       " 'is',\n",
       " 'a',\n",
       " 'domestic',\n",
       " 'species',\n",
       " 'of',\n",
       " 'small',\n",
       " 'carnivorous',\n",
       " 'mammal',\n",
       " '.[',\n",
       " '1',\n",
       " '][',\n",
       " '2',\n",
       " ']',\n",
       " 'It',\n",
       " 'the',\n",
       " 'only',\n",
       " 'domesticated',\n",
       " 'in',\n",
       " 'family',\n",
       " 'Felidae',\n",
       " 'and',\n",
       " 'often',\n",
       " 'referred',\n",
       " 'to',\n",
       " 'as',\n",
       " 'distinguish',\n",
       " 'it',\n",
       " 'from',\n",
       " 'wild',\n",
       " 'members',\n",
       " '4',\n",
       " 'A',\n",
       " 'can',\n",
       " 'either',\n",
       " 'be',\n",
       " 'house',\n",
       " ',',\n",
       " 'farm',\n",
       " 'or',\n",
       " 'feral',\n",
       " ';',\n",
       " 'latter',\n",
       " 'ranges',\n",
       " 'freely',\n",
       " 'avoids',\n",
       " 'human',\n",
       " 'contact',\n",
       " '5',\n",
       " 'Domestic',\n",
       " 'cats',\n",
       " 'are',\n",
       " 'valued',\n",
       " 'by',\n",
       " 'humans',\n",
       " 'for',\n",
       " 'companionship',\n",
       " 'their',\n",
       " 'ability',\n",
       " 'hunt',\n",
       " 'rodents',\n",
       " '.',\n",
       " 'About',\n",
       " '60',\n",
       " 'breeds',\n",
       " 'recognized',\n",
       " 'various',\n",
       " 'registries',\n",
       " '6']"
      ]
     },
     "execution_count": 19,
     "metadata": {},
     "output_type": "execute_result"
    }
   ],
   "source": [
    "freqDist = FreqDist(tokens_in)\n",
    "#ords = list(freqDist.keys())\n",
    "list(freqDist.keys())"
   ]
  },
  {
   "cell_type": "code",
   "execution_count": 20,
   "id": "1b2e110a",
   "metadata": {},
   "outputs": [
    {
     "data": {
      "text/plain": [
       "FreqDist({'cat': 8, 'the': 7, 'a': 5, '.[': 4, ']': 4, 'is': 3, 'domestic': 3, 'and': 3, 'to': 3, 'species': 2, ...})"
      ]
     },
     "execution_count": 20,
     "metadata": {},
     "output_type": "execute_result"
    }
   ],
   "source": [
    "\n",
    "fdist = nltk.FreqDist([w.lower() for w in tokens_in])\n",
    "fdist"
   ]
  },
  {
   "cell_type": "code",
   "execution_count": 29,
   "id": "95f118d5",
   "metadata": {},
   "outputs": [
    {
     "name": "stdout",
     "output_type": "stream",
     "text": [
      "cat\n"
     ]
    }
   ],
   "source": [
    "print(fdist.max())"
   ]
  },
  {
   "cell_type": "code",
   "execution_count": 35,
   "id": "720c2b12",
   "metadata": {},
   "outputs": [],
   "source": [
    "import re\n",
    "if re.match(r'(\\w+|\\.\\,\\!\\?\\;\\:)', sentence) == True:\n",
    "    print(sentence)"
   ]
  },
  {
   "cell_type": "code",
   "execution_count": null,
   "id": "0e61e1c1",
   "metadata": {},
   "outputs": [],
   "source": []
  }
 ],
 "metadata": {
  "kernelspec": {
   "display_name": "Python 3 (ipykernel)",
   "language": "python",
   "name": "python3"
  },
  "language_info": {
   "codemirror_mode": {
    "name": "ipython",
    "version": 3
   },
   "file_extension": ".py",
   "mimetype": "text/x-python",
   "name": "python",
   "nbconvert_exporter": "python",
   "pygments_lexer": "ipython3",
   "version": "3.9.7"
  }
 },
 "nbformat": 4,
 "nbformat_minor": 5
}
